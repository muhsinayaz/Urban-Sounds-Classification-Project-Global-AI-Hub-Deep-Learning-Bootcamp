{
  "nbformat": 4,
  "nbformat_minor": 0,
  "metadata": {
    "colab": {
      "provenance": [],
      "collapsed_sections": []
    },
    "kernelspec": {
      "name": "python3",
      "display_name": "Python 3"
    },
    "language_info": {
      "name": "python"
    },
    "accelerator": "GPU"
  },
  "cells": [
    {
      "cell_type": "code",
      "execution_count": 7,
      "metadata": {
        "colab": {
          "base_uri": "https://localhost:8080/"
        },
        "id": "Lkjg-G9K4EP_",
        "outputId": "ded92250-ea6d-407a-ed76-c3395a1570e2"
      },
      "outputs": [
        {
          "output_type": "stream",
          "name": "stdout",
          "text": [
            "Model: \"sequential_1\"\n",
            "_________________________________________________________________\n",
            " Layer (type)                Output Shape              Param #   \n",
            "=================================================================\n",
            " conv2d_3 (Conv2D)           (None, 128, 128, 32)      896       \n",
            "                                                                 \n",
            " max_pooling2d_2 (MaxPooling  (None, 64, 64, 32)       0         \n",
            " 2D)                                                             \n",
            "                                                                 \n",
            " conv2d_4 (Conv2D)           (None, 64, 64, 64)        18496     \n",
            "                                                                 \n",
            " max_pooling2d_3 (MaxPooling  (None, 32, 32, 64)       0         \n",
            " 2D)                                                             \n",
            "                                                                 \n",
            " conv2d_5 (Conv2D)           (None, 32, 32, 64)        36928     \n",
            "                                                                 \n",
            " flatten_1 (Flatten)         (None, 65536)             0         \n",
            "                                                                 \n",
            " dense_3 (Dense)             (None, 64)                4194368   \n",
            "                                                                 \n",
            " dropout_2 (Dropout)         (None, 64)                0         \n",
            "                                                                 \n",
            " dense_4 (Dense)             (None, 64)                4160      \n",
            "                                                                 \n",
            " dropout_3 (Dropout)         (None, 64)                0         \n",
            "                                                                 \n",
            " dense_5 (Dense)             (None, 10)                650       \n",
            "                                                                 \n",
            "=================================================================\n",
            "Total params: 4,255,498\n",
            "Trainable params: 4,255,498\n",
            "Non-trainable params: 0\n",
            "_________________________________________________________________\n"
          ]
        }
      ],
      "source": [
        "#libraries\n",
        "import tensorflow as tf\n",
        "from tensorflow import keras\n",
        "import pickle\n",
        "\n",
        "\n",
        "#constructing the neural network\n",
        "\n",
        "## creating a model object\n",
        "model=tf.keras.Sequential()\n",
        "\n",
        "#convolution and max pooling layer\n",
        "model.add(tf.keras.layers.Conv2D(32,kernel_size=(3,3),strides=(1,1),padding=\"same\",activation=\"relu\",input_shape=(128,128,3)))\n",
        "\n",
        "model.add(tf.keras.layers.MaxPooling2D(2,2))\n",
        "## More layer\n",
        "\n",
        "model.add(tf.keras.layers.Conv2D(64,kernel_size=(3,3),strides=(1,1),padding=\"same\",activation=\"relu\"))\n",
        "\n",
        "model.add(tf.keras.layers.MaxPooling2D(2,2))\n",
        "\n",
        "model.add(tf.keras.layers.Conv2D(64,kernel_size=(3,3),strides=(1,1),padding=\"same\",activation=\"relu\"))\n",
        "\n",
        "#Flatten the convolution layer\n",
        "model.add(tf.keras.layers.Flatten())\n",
        "\n",
        "#dense layer and dropout layer\n",
        "\n",
        "model.add(tf.keras.layers.Dense(64,activation=\"relu\"))\n",
        "\n",
        "model.add(tf.keras.layers.Dropout(0.5))\n",
        "\n",
        "model.add(tf.keras.layers.Dense(64,activation=\"relu\"))\n",
        "\n",
        "model.add(tf.keras.layers.Dropout(0.5))\n",
        "\n",
        "#output layer\n",
        "model.add(tf.keras.layers.Dense(10,activation=\"softmax\")) #use softmax for multiclass classification\n",
        "\n",
        "#compiling the model\n",
        "model.compile(optimizer=\"adam\", loss=\"sparse_categorical_crossentropy\",metrics=[\"accuracy\"]   )\n",
        "\n",
        "model.summary()\n",
        "\n"
      ]
    },
    {
      "cell_type": "code",
      "source": [
        "#reading files from drive\n",
        "path=\"/content/drive/MyDrive/dataset/\"\n",
        "pickle_in0=open(path+\"X_train.pickle\",\"rb\")\n",
        "X_train=pickle.load(pickle_in0)\n",
        "\n",
        "pickle_in1=open(path+\"X_test.pickle\",\"rb\")\n",
        "X_test=pickle.load(pickle_in1)\n",
        "\n",
        "pickle_in2=open(path+\"X_val.pickle\",\"rb\")\n",
        "X_val=pickle.load(pickle_in2)\n",
        "\n",
        "pickle_in3=open(path+\"y_test.pickle\",\"rb\")\n",
        "y_test=pickle.load(pickle_in3)\n",
        "\n",
        "\n",
        "pickle_in4=open(path+\"y_train.pickle\",\"rb\")\n",
        "y_train=pickle.load(pickle_in4)\n",
        "\n",
        "pickle_in5=open(path+\"y_val.pickle\",\"rb\")\n",
        "y_val=pickle.load(pickle_in5)\n"
      ],
      "metadata": {
        "id": "3DlFUOlxF74Z"
      },
      "execution_count": 8,
      "outputs": []
    },
    {
      "cell_type": "code",
      "source": [
        "#Training the model for 50 epochs\n",
        "results=model.fit(X_train,y_train,batch_size=128,epochs=50,validation_data=(X_val,y_val))"
      ],
      "metadata": {
        "colab": {
          "base_uri": "https://localhost:8080/"
        },
        "id": "ZmtZgvRm57u-",
        "outputId": "210880d4-edba-485d-d59a-12cf93c9d7b8"
      },
      "execution_count": 9,
      "outputs": [
        {
          "output_type": "stream",
          "name": "stdout",
          "text": [
            "Epoch 1/50\n",
            "56/56 [==============================] - 17s 81ms/step - loss: 2.2032 - accuracy: 0.1695 - val_loss: 1.9876 - val_accuracy: 0.3346\n",
            "Epoch 2/50\n",
            "56/56 [==============================] - 4s 66ms/step - loss: 1.9869 - accuracy: 0.2599 - val_loss: 1.6451 - val_accuracy: 0.4466\n",
            "Epoch 3/50\n",
            "56/56 [==============================] - 4s 69ms/step - loss: 1.7409 - accuracy: 0.3580 - val_loss: 1.3376 - val_accuracy: 0.5458\n",
            "Epoch 4/50\n",
            "56/56 [==============================] - 4s 66ms/step - loss: 1.5902 - accuracy: 0.4095 - val_loss: 1.1781 - val_accuracy: 0.6196\n",
            "Epoch 5/50\n",
            "56/56 [==============================] - 4s 67ms/step - loss: 1.3989 - accuracy: 0.4894 - val_loss: 1.0111 - val_accuracy: 0.6845\n",
            "Epoch 6/50\n",
            "56/56 [==============================] - 4s 67ms/step - loss: 1.2399 - accuracy: 0.5365 - val_loss: 0.8841 - val_accuracy: 0.7074\n",
            "Epoch 7/50\n",
            "56/56 [==============================] - 4s 66ms/step - loss: 1.1364 - accuracy: 0.5758 - val_loss: 0.8362 - val_accuracy: 0.7354\n",
            "Epoch 8/50\n",
            "56/56 [==============================] - 4s 67ms/step - loss: 1.0626 - accuracy: 0.6233 - val_loss: 0.8179 - val_accuracy: 0.7799\n",
            "Epoch 9/50\n",
            "56/56 [==============================] - 4s 67ms/step - loss: 0.9763 - accuracy: 0.6588 - val_loss: 0.7832 - val_accuracy: 0.7863\n",
            "Epoch 10/50\n",
            "56/56 [==============================] - 4s 67ms/step - loss: 0.9109 - accuracy: 0.6826 - val_loss: 0.6813 - val_accuracy: 0.8104\n",
            "Epoch 11/50\n",
            "56/56 [==============================] - 4s 67ms/step - loss: 0.8442 - accuracy: 0.7073 - val_loss: 0.6562 - val_accuracy: 0.8257\n",
            "Epoch 12/50\n",
            "56/56 [==============================] - 4s 67ms/step - loss: 0.8069 - accuracy: 0.7203 - val_loss: 0.6437 - val_accuracy: 0.8346\n",
            "Epoch 13/50\n",
            "56/56 [==============================] - 4s 67ms/step - loss: 0.7895 - accuracy: 0.7267 - val_loss: 0.6189 - val_accuracy: 0.8524\n",
            "Epoch 14/50\n",
            "56/56 [==============================] - 4s 67ms/step - loss: 0.7386 - accuracy: 0.7405 - val_loss: 0.5878 - val_accuracy: 0.8410\n",
            "Epoch 15/50\n",
            "56/56 [==============================] - 4s 67ms/step - loss: 0.6903 - accuracy: 0.7531 - val_loss: 0.5909 - val_accuracy: 0.8422\n",
            "Epoch 16/50\n",
            "56/56 [==============================] - 4s 67ms/step - loss: 0.6446 - accuracy: 0.7732 - val_loss: 0.6430 - val_accuracy: 0.8333\n",
            "Epoch 17/50\n",
            "56/56 [==============================] - 4s 67ms/step - loss: 0.6536 - accuracy: 0.7643 - val_loss: 0.5889 - val_accuracy: 0.8537\n",
            "Epoch 18/50\n",
            "56/56 [==============================] - 4s 67ms/step - loss: 0.6238 - accuracy: 0.7762 - val_loss: 0.5593 - val_accuracy: 0.8524\n",
            "Epoch 19/50\n",
            "56/56 [==============================] - 4s 66ms/step - loss: 0.5898 - accuracy: 0.7841 - val_loss: 0.6061 - val_accuracy: 0.8422\n",
            "Epoch 20/50\n",
            "56/56 [==============================] - 4s 67ms/step - loss: 0.5714 - accuracy: 0.7957 - val_loss: 0.5661 - val_accuracy: 0.8499\n",
            "Epoch 21/50\n",
            "56/56 [==============================] - 4s 66ms/step - loss: 0.5804 - accuracy: 0.7930 - val_loss: 0.5565 - val_accuracy: 0.8588\n",
            "Epoch 22/50\n",
            "56/56 [==============================] - 4s 66ms/step - loss: 0.5535 - accuracy: 0.8022 - val_loss: 0.5914 - val_accuracy: 0.8486\n",
            "Epoch 23/50\n",
            "56/56 [==============================] - 4s 67ms/step - loss: 0.5487 - accuracy: 0.8015 - val_loss: 0.5741 - val_accuracy: 0.8461\n",
            "Epoch 24/50\n",
            "56/56 [==============================] - 4s 66ms/step - loss: 0.5042 - accuracy: 0.8160 - val_loss: 0.6040 - val_accuracy: 0.8461\n",
            "Epoch 25/50\n",
            "56/56 [==============================] - 4s 66ms/step - loss: 0.5106 - accuracy: 0.8143 - val_loss: 0.5912 - val_accuracy: 0.8473\n",
            "Epoch 26/50\n",
            "56/56 [==============================] - 4s 66ms/step - loss: 0.5352 - accuracy: 0.8042 - val_loss: 0.5943 - val_accuracy: 0.8537\n",
            "Epoch 27/50\n",
            "56/56 [==============================] - 4s 67ms/step - loss: 0.4821 - accuracy: 0.8266 - val_loss: 0.6006 - val_accuracy: 0.8613\n",
            "Epoch 28/50\n",
            "56/56 [==============================] - 4s 67ms/step - loss: 0.4897 - accuracy: 0.8217 - val_loss: 0.6019 - val_accuracy: 0.8550\n",
            "Epoch 29/50\n",
            "56/56 [==============================] - 4s 67ms/step - loss: 0.5057 - accuracy: 0.8215 - val_loss: 0.5703 - val_accuracy: 0.8486\n",
            "Epoch 30/50\n",
            "56/56 [==============================] - 4s 67ms/step - loss: 0.5043 - accuracy: 0.8206 - val_loss: 0.5651 - val_accuracy: 0.8473\n",
            "Epoch 31/50\n",
            "56/56 [==============================] - 4s 67ms/step - loss: 0.4764 - accuracy: 0.8262 - val_loss: 0.5901 - val_accuracy: 0.8537\n",
            "Epoch 32/50\n",
            "56/56 [==============================] - 4s 67ms/step - loss: 0.4870 - accuracy: 0.8204 - val_loss: 0.5718 - val_accuracy: 0.8613\n",
            "Epoch 33/50\n",
            "56/56 [==============================] - 4s 67ms/step - loss: 0.4476 - accuracy: 0.8323 - val_loss: 0.5827 - val_accuracy: 0.8626\n",
            "Epoch 34/50\n",
            "56/56 [==============================] - 4s 67ms/step - loss: 0.4753 - accuracy: 0.8214 - val_loss: 0.6855 - val_accuracy: 0.8448\n",
            "Epoch 35/50\n",
            "56/56 [==============================] - 4s 67ms/step - loss: 0.4607 - accuracy: 0.8271 - val_loss: 0.6868 - val_accuracy: 0.8511\n",
            "Epoch 36/50\n",
            "56/56 [==============================] - 4s 67ms/step - loss: 0.4626 - accuracy: 0.8309 - val_loss: 0.6430 - val_accuracy: 0.8537\n",
            "Epoch 37/50\n",
            "56/56 [==============================] - 4s 67ms/step - loss: 0.4446 - accuracy: 0.8378 - val_loss: 0.7113 - val_accuracy: 0.8575\n",
            "Epoch 38/50\n",
            "56/56 [==============================] - 4s 67ms/step - loss: 0.4413 - accuracy: 0.8346 - val_loss: 0.6485 - val_accuracy: 0.8639\n",
            "Epoch 39/50\n",
            "56/56 [==============================] - 4s 67ms/step - loss: 0.4533 - accuracy: 0.8331 - val_loss: 0.6262 - val_accuracy: 0.8588\n",
            "Epoch 40/50\n",
            "56/56 [==============================] - 4s 67ms/step - loss: 0.4470 - accuracy: 0.8364 - val_loss: 0.7689 - val_accuracy: 0.8372\n",
            "Epoch 41/50\n",
            "56/56 [==============================] - 4s 67ms/step - loss: 0.4236 - accuracy: 0.8435 - val_loss: 0.6556 - val_accuracy: 0.8626\n",
            "Epoch 42/50\n",
            "56/56 [==============================] - 4s 67ms/step - loss: 0.4225 - accuracy: 0.8429 - val_loss: 0.7838 - val_accuracy: 0.8562\n",
            "Epoch 43/50\n",
            "56/56 [==============================] - 4s 67ms/step - loss: 0.4064 - accuracy: 0.8460 - val_loss: 0.7098 - val_accuracy: 0.8550\n",
            "Epoch 44/50\n",
            "56/56 [==============================] - 4s 67ms/step - loss: 0.4266 - accuracy: 0.8387 - val_loss: 0.7234 - val_accuracy: 0.8524\n",
            "Epoch 45/50\n",
            "56/56 [==============================] - 4s 66ms/step - loss: 0.4367 - accuracy: 0.8344 - val_loss: 0.7277 - val_accuracy: 0.8524\n",
            "Epoch 46/50\n",
            "56/56 [==============================] - 4s 70ms/step - loss: 0.4177 - accuracy: 0.8462 - val_loss: 0.6075 - val_accuracy: 0.8677\n",
            "Epoch 47/50\n",
            "56/56 [==============================] - 4s 67ms/step - loss: 0.4223 - accuracy: 0.8411 - val_loss: 0.6660 - val_accuracy: 0.8664\n",
            "Epoch 48/50\n",
            "56/56 [==============================] - 4s 67ms/step - loss: 0.4139 - accuracy: 0.8479 - val_loss: 0.6825 - val_accuracy: 0.8613\n",
            "Epoch 49/50\n",
            "56/56 [==============================] - 4s 67ms/step - loss: 0.4197 - accuracy: 0.8402 - val_loss: 0.6815 - val_accuracy: 0.8562\n",
            "Epoch 50/50\n",
            "56/56 [==============================] - 4s 66ms/step - loss: 0.4089 - accuracy: 0.8449 - val_loss: 0.6787 - val_accuracy: 0.8639\n"
          ]
        }
      ]
    },
    {
      "cell_type": "code",
      "source": [
        "#Visualizing the results\n",
        "\n",
        "#training loss\n",
        "import matplotlib.pyplot as plt\n",
        "plt.plot(results.history[\"loss\"],label=\"loss\")\n",
        "#validation loss\n",
        "plt.plot(results.history[\"val_loss\"],label=\"val_loss\")\n",
        "\n",
        "plt.xlabel(\"Epoch\")\n",
        "plt.ylabel(\"loss\")\n",
        "plt.legend()\n",
        "plt.show()"
      ],
      "metadata": {
        "colab": {
          "base_uri": "https://localhost:8080/",
          "height": 279
        },
        "id": "StIeg7CYTeOv",
        "outputId": "1049d2af-d1b9-4b1a-9a38-c56b04b141e8"
      },
      "execution_count": 10,
      "outputs": [
        {
          "output_type": "display_data",
          "data": {
            "text/plain": [
              "<Figure size 432x288 with 1 Axes>"
            ],
            "image/png": "[encoded data removed]"
          },
          "metadata": {
            "needs_background": "light"
          }
        }
      ]
    },
    {
      "cell_type": "code",
      "source": [
        "#training accuracy\n",
        "import matplotlib.pyplot as plt\n",
        "plt.plot(results.history[\"accuracy\"],label=\"accuracy\")\n",
        "#validation accuracy\n",
        "plt.plot(results.history[\"val_accuracy\"],label=\"val_accuracy\")\n",
        "\n",
        "plt.xlabel(\"Epoch\")\n",
        "plt.ylabel(\"Accuracy\")\n",
        "plt.legend()\n",
        "plt.show()"
      ],
      "metadata": {
        "colab": {
          "base_uri": "https://localhost:8080/",
          "height": 279
        },
        "id": "DlgfjTKIt1T_",
        "outputId": "bb7bcc08-1494-423b-e055-9cd0e33e664a"
      },
      "execution_count": 11,
      "outputs": [
        {
          "output_type": "display_data",
          "data": {
            "text/plain": [
              "<Figure size 432x288 with 1 Axes>"
            ],
            "image/png": "[encoded data removed]"
          },
          "metadata": {
            "needs_background": "light"
          }
        }
      ]
    },
    {
      "cell_type": "code",
      "source": [
        "#Evaluate\n",
        "score=model.evaluate(X_test,y_test)\n",
        "print('Test loss:', score[0])\n",
        "print('Test accuracy:', score[1])"
      ],
      "metadata": {
        "colab": {
          "base_uri": "https://localhost:8080/"
        },
        "id": "RbeHVlCNujUR",
        "outputId": "3aea80ef-e051-430f-8dae-e538dd2e73ea"
      },
      "execution_count": 12,
      "outputs": [
        {
          "output_type": "stream",
          "name": "stdout",
          "text": [
            "28/28 [==============================] - 0s 11ms/step - loss: 0.7032 - accuracy: 0.8730\n",
            "Test loss: 0.7031794190406799\n",
            "Test accuracy: 0.8729977011680603\n"
          ]
        }
      ]
    },
    {
      "cell_type": "code",
      "source": [
        "model.save(\"trained_model_urban_sounds_classification\")"
      ],
      "metadata": {
        "id": "Nz7kemcMukf7"
      },
      "execution_count": 13,
      "outputs": []
    },
    {
      "cell_type": "code",
      "source": [
        "#loading the saved model\n",
        "new_model = tf.keras.models.load_model('/content/trained_model_urban_sounds_classification')\n",
        "\n",
        "# Check its architecture\n",
        "new_model.summary()"
      ],
      "metadata": {
        "colab": {
          "base_uri": "https://localhost:8080/"
        },
        "id": "Rqeg0kqZ2Hb1",
        "outputId": "d36721cf-899f-4d6f-97e1-d0a70ce80345"
      },
      "execution_count": 14,
      "outputs": [
        {
          "output_type": "stream",
          "name": "stdout",
          "text": [
            "Model: \"sequential_1\"\n",
            "_________________________________________________________________\n",
            " Layer (type)                Output Shape              Param #   \n",
            "=================================================================\n",
            " conv2d_3 (Conv2D)           (None, 128, 128, 32)      896       \n",
            "                                                                 \n",
            " max_pooling2d_2 (MaxPooling  (None, 64, 64, 32)       0         \n",
            " 2D)                                                             \n",
            "                                                                 \n",
            " conv2d_4 (Conv2D)           (None, 64, 64, 64)        18496     \n",
            "                                                                 \n",
            " max_pooling2d_3 (MaxPooling  (None, 32, 32, 64)       0         \n",
            " 2D)                                                             \n",
            "                                                                 \n",
            " conv2d_5 (Conv2D)           (None, 32, 32, 64)        36928     \n",
            "                                                                 \n",
            " flatten_1 (Flatten)         (None, 65536)             0         \n",
            "                                                                 \n",
            " dense_3 (Dense)             (None, 64)                4194368   \n",
            "                                                                 \n",
            " dropout_2 (Dropout)         (None, 64)                0         \n",
            "                                                                 \n",
            " dense_4 (Dense)             (None, 64)                4160      \n",
            "                                                                 \n",
            " dropout_3 (Dropout)         (None, 64)                0         \n",
            "                                                                 \n",
            " dense_5 (Dense)             (None, 10)                650       \n",
            "                                                                 \n",
            "=================================================================\n",
            "Total params: 4,255,498\n",
            "Trainable params: 4,255,498\n",
            "Non-trainable params: 0\n",
            "_________________________________________________________________\n"
          ]
        }
      ]
    },
    {
      "cell_type": "code",
      "source": [
        "\n",
        "\n",
        "\n"
      ],
      "metadata": {
        "id": "4Bc8GJyf30YP"
      },
      "execution_count": null,
      "outputs": []
    }
  ]
}